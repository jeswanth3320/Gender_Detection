{
 "cells": [
  {
   "cell_type": "code",
   "execution_count": 2,
   "metadata": {},
   "outputs": [
    {
     "name": "stdout",
     "output_type": "stream",
     "text": [
      "Collecting opencv-python\n",
      "  Downloading opencv_python-4.5.3.56-cp38-cp38-win_amd64.whl (34.9 MB)\n",
      "Requirement already satisfied: numpy>=1.17.3 in c:\\users\\jeswa\\anaconda\\lib\\site-packages (from opencv-python) (1.19.5)\n",
      "Installing collected packages: opencv-python\n",
      "Successfully installed opencv-python-4.5.3.56\n",
      "Note: you may need to restart the kernel to use updated packages.\n"
     ]
    }
   ],
   "source": [
    "pip install opencv-python"
   ]
  },
  {
   "cell_type": "code",
   "execution_count": 1,
   "metadata": {},
   "outputs": [],
   "source": [
    "from tensorflow.keras.preprocessing.image import ImageDataGenerator\n",
    "from tensorflow.keras.optimizers import Adam\n",
    "from tensorflow.keras.preprocessing.image import img_to_array\n",
    "from tensorflow.keras.utils import to_categorical, plot_model\n",
    "from tensorflow.keras.models import Sequential\n",
    "from tensorflow.keras.layers import BatchNormalization, Conv2D, MaxPooling2D, Activation, Flatten, Dropout, Dense\n",
    "from tensorflow.keras import backend as K\n",
    "from sklearn.model_selection import train_test_split\n",
    "import matplotlib.pyplot as plt\n",
    "import numpy as np\n",
    "import random\n",
    "import cv2\n",
    "import os\n",
    "import glob"
   ]
  },
  {
   "cell_type": "code",
   "execution_count": 21,
   "metadata": {},
   "outputs": [],
   "source": [
    "# initial parameters\n",
    "epochs = 100\n",
    "lr = 1e-3\n",
    "batch_size = 64\n",
    "img_dims = (96,96,3)\n",
    "\n",
    "data = []\n",
    "labels = []"
   ]
  },
  {
   "cell_type": "code",
   "execution_count": 22,
   "metadata": {},
   "outputs": [],
   "source": [
    "# load image files from the dataset\n",
    "image_files = [f for f in glob.glob(r'D:\\image\\Gender-Detection-master\\gender_dataset_face' + \"/**/*\", recursive=True) if not os.path.isdir(f)]\n",
    "random.shuffle(image_files)"
   ]
  },
  {
   "cell_type": "code",
   "execution_count": 23,
   "metadata": {},
   "outputs": [],
   "source": [
    "# converting images to arrays and labelling the categories\n",
    "for img in image_files:\n",
    "\n",
    "    image = cv2.imread(img)\n",
    "    \n",
    "    image = cv2.resize(image, (img_dims[0],img_dims[1]))\n",
    "    image = img_to_array(image)\n",
    "    data.append(image)\n",
    "\n",
    "    label = img.split(os.path.sep)[-2] # C:\\Files\\gender_dataset_face\\woman\\face_1162.jpg\n",
    "    if label == \"woman\":\n",
    "        label = 1\n",
    "    else:\n",
    "        label = 0\n",
    "        \n",
    "    labels.append([label]) # [[1], [0], [0], ...]\n"
   ]
  },
  {
   "cell_type": "code",
   "execution_count": 25,
   "metadata": {},
   "outputs": [],
   "source": [
    "# pre-processing\n",
    "data = np.array(data, dtype=\"float\") / 255.0\n",
    "labels = np.array(labels)"
   ]
  },
  {
   "cell_type": "code",
   "execution_count": 26,
   "metadata": {},
   "outputs": [],
   "source": [
    "# split dataset for training and validation\n",
    "trainX, testX, trainY, testY = train_test_split(data, labels, test_size=0.2,random_state=42)"
   ]
  },
  {
   "cell_type": "code",
   "execution_count": 27,
   "metadata": {},
   "outputs": [],
   "source": [
    "trainY = to_categorical(trainY, num_classes=2) # [[1, 0], [0, 1], [0, 1], ...]\n",
    "testY = to_categorical(testY, num_classes=2)"
   ]
  },
  {
   "cell_type": "code",
   "execution_count": 28,
   "metadata": {},
   "outputs": [],
   "source": [
    "# augmenting datset \n",
    "aug = ImageDataGenerator(rotation_range=25, width_shift_range=0.1,\n",
    "                         height_shift_range=0.1, shear_range=0.2, zoom_range=0.2,\n",
    "                         horizontal_flip=True, fill_mode=\"nearest\")"
   ]
  },
  {
   "cell_type": "code",
   "execution_count": 29,
   "metadata": {},
   "outputs": [],
   "source": [
    "# define model\n",
    "def build(width, height, depth, classes):\n",
    "    model = Sequential()\n",
    "    inputShape = (height, width, depth)\n",
    "    chanDim = -1\n",
    "\n",
    "    if K.image_data_format() == \"channels_first\": #Returns a string, either 'channels_first' or 'channels_last'\n",
    "        inputShape = (depth, height, width)\n",
    "        chanDim = 1\n",
    "    \n",
    "    # The axis that should be normalized, after a Conv2D layer with data_format=\"channels_first\", \n",
    "    # set axis=1 in BatchNormalization.\n",
    "\n",
    "    model.add(Conv2D(32, (3,3), padding=\"same\", input_shape=inputShape))\n",
    "    model.add(Activation(\"relu\"))\n",
    "    model.add(BatchNormalization(axis=chanDim))\n",
    "    model.add(MaxPooling2D(pool_size=(3,3)))\n",
    "    model.add(Dropout(0.25))\n",
    "\n",
    "    model.add(Conv2D(64, (3,3), padding=\"same\"))\n",
    "    model.add(Activation(\"relu\"))\n",
    "    model.add(BatchNormalization(axis=chanDim))\n",
    "\n",
    "    model.add(Conv2D(64, (3,3), padding=\"same\"))\n",
    "    model.add(Activation(\"relu\"))\n",
    "    model.add(BatchNormalization(axis=chanDim))\n",
    "    model.add(MaxPooling2D(pool_size=(2,2)))\n",
    "    model.add(Dropout(0.25))\n",
    "\n",
    "    model.add(Conv2D(128, (3,3), padding=\"same\"))\n",
    "    model.add(Activation(\"relu\"))\n",
    "    model.add(BatchNormalization(axis=chanDim))\n",
    "\n",
    "    model.add(Conv2D(128, (3,3), padding=\"same\"))\n",
    "    model.add(Activation(\"relu\"))\n",
    "    model.add(BatchNormalization(axis=chanDim))\n",
    "    model.add(MaxPooling2D(pool_size=(2,2)))\n",
    "    model.add(Dropout(0.25))\n",
    "\n",
    "    model.add(Flatten())\n",
    "    model.add(Dense(1024))\n",
    "    model.add(Activation(\"relu\"))\n",
    "    model.add(BatchNormalization())\n",
    "    model.add(Dropout(0.5))\n",
    "\n",
    "    model.add(Dense(classes))\n",
    "    model.add(Activation(\"sigmoid\"))\n",
    "\n",
    "    return model"
   ]
  },
  {
   "cell_type": "code",
   "execution_count": 30,
   "metadata": {},
   "outputs": [],
   "source": [
    "# build model\n",
    "model = build(width=img_dims[0], height=img_dims[1], depth=img_dims[2],\n",
    "                            classes=2)"
   ]
  },
  {
   "cell_type": "code",
   "execution_count": 31,
   "metadata": {},
   "outputs": [],
   "source": [
    "# compile the model\n",
    "opt = Adam(lr=lr, decay=lr/epochs)\n",
    "model.compile(loss=\"binary_crossentropy\", optimizer=opt, metrics=[\"accuracy\"])"
   ]
  },
  {
   "cell_type": "code",
   "execution_count": 32,
   "metadata": {},
   "outputs": [
    {
     "name": "stderr",
     "output_type": "stream",
     "text": [
      "C:\\Users\\jeswa\\Anaconda\\lib\\site-packages\\tensorflow\\python\\keras\\engine\\training.py:1940: UserWarning: `Model.fit_generator` is deprecated and will be removed in a future version. Please use `Model.fit`, which supports generators.\n",
      "  warnings.warn('`Model.fit_generator` is deprecated and '\n"
     ]
    },
    {
     "name": "stdout",
     "output_type": "stream",
     "text": [
      "Epoch 1/100\n",
      "28/28 [==============================] - 19s 648ms/step - loss: 0.7637 - accuracy: 0.7159 - val_loss: 0.7358 - val_accuracy: 0.4827\n",
      "Epoch 2/100\n",
      "28/28 [==============================] - 18s 649ms/step - loss: 0.4492 - accuracy: 0.8327 - val_loss: 0.7708 - val_accuracy: 0.4827\n",
      "Epoch 3/100\n",
      "28/28 [==============================] - 19s 684ms/step - loss: 0.3936 - accuracy: 0.8495 - val_loss: 0.8879 - val_accuracy: 0.4827\n",
      "Epoch 4/100\n",
      "28/28 [==============================] - 20s 718ms/step - loss: 0.3808 - accuracy: 0.8557 - val_loss: 1.5544 - val_accuracy: 0.4827\n",
      "Epoch 5/100\n",
      "28/28 [==============================] - 21s 756ms/step - loss: 0.3327 - accuracy: 0.8731 - val_loss: 0.8523 - val_accuracy: 0.4827\n",
      "Epoch 6/100\n",
      "28/28 [==============================] - 20s 694ms/step - loss: 0.3160 - accuracy: 0.8793 - val_loss: 1.8059 - val_accuracy: 0.4827\n",
      "Epoch 7/100\n",
      "28/28 [==============================] - 21s 756ms/step - loss: 0.2819 - accuracy: 0.8967 - val_loss: 0.7536 - val_accuracy: 0.4978\n",
      "Epoch 8/100\n",
      "28/28 [==============================] - 21s 739ms/step - loss: 0.2556 - accuracy: 0.8984 - val_loss: 1.3996 - val_accuracy: 0.4827\n",
      "Epoch 9/100\n",
      "28/28 [==============================] - 22s 795ms/step - loss: 0.2230 - accuracy: 0.9152 - val_loss: 1.5894 - val_accuracy: 0.4848\n",
      "Epoch 10/100\n",
      "28/28 [==============================] - 21s 739ms/step - loss: 0.1972 - accuracy: 0.9236 - val_loss: 0.7542 - val_accuracy: 0.6104\n",
      "Epoch 11/100\n",
      "28/28 [==============================] - 22s 774ms/step - loss: 0.2356 - accuracy: 0.9203 - val_loss: 0.3719 - val_accuracy: 0.8463\n",
      "Epoch 12/100\n",
      "28/28 [==============================] - 20s 725ms/step - loss: 0.1977 - accuracy: 0.9253 - val_loss: 0.4521 - val_accuracy: 0.7879\n",
      "Epoch 13/100\n",
      "28/28 [==============================] - 20s 704ms/step - loss: 0.1740 - accuracy: 0.9298 - val_loss: 0.2869 - val_accuracy: 0.8701\n",
      "Epoch 14/100\n",
      "28/28 [==============================] - 20s 711ms/step - loss: 0.1466 - accuracy: 0.9489 - val_loss: 0.3151 - val_accuracy: 0.8658\n",
      "Epoch 15/100\n",
      "28/28 [==============================] - 20s 707ms/step - loss: 0.1645 - accuracy: 0.9326 - val_loss: 0.5850 - val_accuracy: 0.7554\n",
      "Epoch 16/100\n",
      "28/28 [==============================] - 20s 703ms/step - loss: 0.1384 - accuracy: 0.9472 - val_loss: 0.2192 - val_accuracy: 0.9026\n",
      "Epoch 17/100\n",
      "28/28 [==============================] - 20s 707ms/step - loss: 0.1412 - accuracy: 0.9495 - val_loss: 0.3313 - val_accuracy: 0.8636\n",
      "Epoch 18/100\n",
      "28/28 [==============================] - 20s 707ms/step - loss: 0.1235 - accuracy: 0.9512 - val_loss: 0.1834 - val_accuracy: 0.9221\n",
      "Epoch 19/100\n",
      "28/28 [==============================] - 20s 724ms/step - loss: 0.1341 - accuracy: 0.9545 - val_loss: 0.1942 - val_accuracy: 0.9264\n",
      "Epoch 20/100\n",
      "28/28 [==============================] - 20s 707ms/step - loss: 0.1228 - accuracy: 0.9573 - val_loss: 0.1470 - val_accuracy: 0.9351\n",
      "Epoch 21/100\n",
      "28/28 [==============================] - 20s 705ms/step - loss: 0.1281 - accuracy: 0.9500 - val_loss: 0.2407 - val_accuracy: 0.8939\n",
      "Epoch 22/100\n",
      "28/28 [==============================] - 20s 717ms/step - loss: 0.1040 - accuracy: 0.9641 - val_loss: 0.1502 - val_accuracy: 0.9329\n",
      "Epoch 23/100\n",
      "28/28 [==============================] - 21s 736ms/step - loss: 0.1227 - accuracy: 0.9556 - val_loss: 0.1504 - val_accuracy: 0.9437\n",
      "Epoch 24/100\n",
      "28/28 [==============================] - 21s 737ms/step - loss: 0.1156 - accuracy: 0.9573 - val_loss: 0.0961 - val_accuracy: 0.9740\n",
      "Epoch 25/100\n",
      "28/28 [==============================] - 20s 717ms/step - loss: 0.1329 - accuracy: 0.9512 - val_loss: 0.1561 - val_accuracy: 0.9459\n",
      "Epoch 26/100\n",
      "28/28 [==============================] - 21s 731ms/step - loss: 0.1211 - accuracy: 0.9556 - val_loss: 0.1210 - val_accuracy: 0.9589\n",
      "Epoch 27/100\n",
      "28/28 [==============================] - 20s 727ms/step - loss: 0.1012 - accuracy: 0.9635 - val_loss: 0.1142 - val_accuracy: 0.9762\n",
      "Epoch 28/100\n",
      "28/28 [==============================] - 20s 701ms/step - loss: 0.0863 - accuracy: 0.9663 - val_loss: 0.1670 - val_accuracy: 0.9524\n",
      "Epoch 29/100\n",
      "28/28 [==============================] - 20s 719ms/step - loss: 0.0950 - accuracy: 0.9635 - val_loss: 0.1160 - val_accuracy: 0.9610\n",
      "Epoch 30/100\n",
      "28/28 [==============================] - 20s 708ms/step - loss: 0.1094 - accuracy: 0.9590 - val_loss: 0.1044 - val_accuracy: 0.9740\n",
      "Epoch 31/100\n",
      "28/28 [==============================] - 20s 706ms/step - loss: 0.0819 - accuracy: 0.9714 - val_loss: 0.4300 - val_accuracy: 0.8571\n",
      "Epoch 32/100\n",
      "28/28 [==============================] - 21s 739ms/step - loss: 0.0895 - accuracy: 0.9635 - val_loss: 0.1317 - val_accuracy: 0.9567\n",
      "Epoch 33/100\n",
      "28/28 [==============================] - 24s 850ms/step - loss: 0.0808 - accuracy: 0.9686 - val_loss: 0.1778 - val_accuracy: 0.9351\n",
      "Epoch 34/100\n",
      "28/28 [==============================] - 20s 711ms/step - loss: 0.0728 - accuracy: 0.9742 - val_loss: 0.1275 - val_accuracy: 0.9545\n",
      "Epoch 35/100\n",
      "28/28 [==============================] - 20s 704ms/step - loss: 0.1057 - accuracy: 0.9618 - val_loss: 0.1029 - val_accuracy: 0.9610\n",
      "Epoch 36/100\n",
      "28/28 [==============================] - 20s 704ms/step - loss: 0.0815 - accuracy: 0.9730 - val_loss: 0.0679 - val_accuracy: 0.9784\n",
      "Epoch 37/100\n",
      "28/28 [==============================] - 20s 708ms/step - loss: 0.0884 - accuracy: 0.9657 - val_loss: 0.0925 - val_accuracy: 0.9610\n",
      "Epoch 38/100\n",
      "28/28 [==============================] - 20s 705ms/step - loss: 0.0863 - accuracy: 0.9691 - val_loss: 0.0965 - val_accuracy: 0.9632\n",
      "Epoch 39/100\n",
      "28/28 [==============================] - 20s 705ms/step - loss: 0.0740 - accuracy: 0.9697 - val_loss: 0.0964 - val_accuracy: 0.9632\n",
      "Epoch 40/100\n",
      "28/28 [==============================] - 20s 709ms/step - loss: 0.0627 - accuracy: 0.9775 - val_loss: 0.0762 - val_accuracy: 0.9675\n",
      "Epoch 41/100\n",
      "28/28 [==============================] - 20s 710ms/step - loss: 0.0928 - accuracy: 0.9613 - val_loss: 0.9604 - val_accuracy: 0.7359\n",
      "Epoch 42/100\n",
      "28/28 [==============================] - 20s 705ms/step - loss: 0.0622 - accuracy: 0.9742 - val_loss: 0.3051 - val_accuracy: 0.9091\n",
      "Epoch 43/100\n",
      "28/28 [==============================] - 20s 704ms/step - loss: 0.0727 - accuracy: 0.9736 - val_loss: 0.1854 - val_accuracy: 0.9459\n",
      "Epoch 44/100\n",
      "28/28 [==============================] - 20s 720ms/step - loss: 0.0691 - accuracy: 0.9759 - val_loss: 0.0896 - val_accuracy: 0.9654\n",
      "Epoch 45/100\n",
      "28/28 [==============================] - 20s 709ms/step - loss: 0.0832 - accuracy: 0.9691 - val_loss: 0.0991 - val_accuracy: 0.9719\n",
      "Epoch 46/100\n",
      "28/28 [==============================] - 20s 711ms/step - loss: 0.0672 - accuracy: 0.9725 - val_loss: 0.1039 - val_accuracy: 0.9697\n",
      "Epoch 47/100\n",
      "28/28 [==============================] - 20s 710ms/step - loss: 0.0686 - accuracy: 0.9747 - val_loss: 0.8731 - val_accuracy: 0.7554\n",
      "Epoch 48/100\n",
      "28/28 [==============================] - 20s 707ms/step - loss: 0.0814 - accuracy: 0.9697 - val_loss: 0.1012 - val_accuracy: 0.9654\n",
      "Epoch 49/100\n",
      "28/28 [==============================] - 20s 716ms/step - loss: 0.0739 - accuracy: 0.9691 - val_loss: 0.3459 - val_accuracy: 0.8939\n",
      "Epoch 50/100\n",
      "28/28 [==============================] - 20s 704ms/step - loss: 0.0679 - accuracy: 0.9770 - val_loss: 0.1805 - val_accuracy: 0.9351\n",
      "Epoch 51/100\n",
      "28/28 [==============================] - 21s 750ms/step - loss: 0.0823 - accuracy: 0.9730 - val_loss: 0.1033 - val_accuracy: 0.9610\n",
      "Epoch 52/100\n",
      "28/28 [==============================] - 20s 720ms/step - loss: 0.0665 - accuracy: 0.9725 - val_loss: 0.0845 - val_accuracy: 0.9632\n",
      "Epoch 53/100\n",
      "28/28 [==============================] - 21s 732ms/step - loss: 0.0660 - accuracy: 0.9759 - val_loss: 0.5060 - val_accuracy: 0.8810\n",
      "Epoch 54/100\n",
      "28/28 [==============================] - 20s 713ms/step - loss: 0.0550 - accuracy: 0.9770 - val_loss: 0.1564 - val_accuracy: 0.9394\n",
      "Epoch 55/100\n",
      "28/28 [==============================] - 20s 709ms/step - loss: 0.0676 - accuracy: 0.9738 - val_loss: 0.1969 - val_accuracy: 0.9394\n",
      "Epoch 56/100\n",
      "28/28 [==============================] - 20s 702ms/step - loss: 0.0776 - accuracy: 0.9686 - val_loss: 0.2219 - val_accuracy: 0.9329\n",
      "Epoch 57/100\n",
      "28/28 [==============================] - 20s 709ms/step - loss: 0.0620 - accuracy: 0.9781 - val_loss: 0.0773 - val_accuracy: 0.9632\n",
      "Epoch 58/100\n",
      "28/28 [==============================] - 20s 703ms/step - loss: 0.0438 - accuracy: 0.9843 - val_loss: 0.1890 - val_accuracy: 0.9481\n",
      "Epoch 59/100\n",
      "28/28 [==============================] - 20s 717ms/step - loss: 0.0638 - accuracy: 0.9742 - val_loss: 0.1906 - val_accuracy: 0.9545\n",
      "Epoch 60/100\n",
      "28/28 [==============================] - 20s 699ms/step - loss: 0.0629 - accuracy: 0.9809 - val_loss: 0.2147 - val_accuracy: 0.9221\n",
      "Epoch 61/100\n",
      "28/28 [==============================] - 20s 702ms/step - loss: 0.0904 - accuracy: 0.9652 - val_loss: 0.3847 - val_accuracy: 0.8874\n",
      "Epoch 62/100\n",
      "28/28 [==============================] - 20s 704ms/step - loss: 0.0750 - accuracy: 0.9686 - val_loss: 0.1401 - val_accuracy: 0.9524\n",
      "Epoch 63/100\n",
      "28/28 [==============================] - 20s 722ms/step - loss: 0.0628 - accuracy: 0.9764 - val_loss: 0.2404 - val_accuracy: 0.9329\n",
      "Epoch 64/100\n",
      "28/28 [==============================] - 20s 712ms/step - loss: 0.0652 - accuracy: 0.9753 - val_loss: 0.2604 - val_accuracy: 0.9177\n",
      "Epoch 65/100\n",
      "28/28 [==============================] - 20s 713ms/step - loss: 0.0550 - accuracy: 0.9798 - val_loss: 0.4381 - val_accuracy: 0.8788\n",
      "Epoch 66/100\n",
      "28/28 [==============================] - 20s 704ms/step - loss: 0.0593 - accuracy: 0.9759 - val_loss: 0.1793 - val_accuracy: 0.9416\n",
      "Epoch 67/100\n",
      "28/28 [==============================] - 20s 698ms/step - loss: 0.0400 - accuracy: 0.9860 - val_loss: 0.1442 - val_accuracy: 0.9545\n",
      "Epoch 68/100\n",
      "28/28 [==============================] - 20s 703ms/step - loss: 0.0509 - accuracy: 0.9775 - val_loss: 0.0877 - val_accuracy: 0.9675\n",
      "Epoch 69/100\n",
      "28/28 [==============================] - 20s 722ms/step - loss: 0.0418 - accuracy: 0.9865 - val_loss: 0.1030 - val_accuracy: 0.9675\n",
      "Epoch 70/100\n",
      "28/28 [==============================] - 20s 701ms/step - loss: 0.0470 - accuracy: 0.9837 - val_loss: 0.0652 - val_accuracy: 0.9784\n",
      "Epoch 71/100\n",
      "28/28 [==============================] - 20s 698ms/step - loss: 0.0613 - accuracy: 0.9736 - val_loss: 0.0700 - val_accuracy: 0.9654\n",
      "Epoch 72/100\n",
      "28/28 [==============================] - 20s 704ms/step - loss: 0.0498 - accuracy: 0.9837 - val_loss: 0.0742 - val_accuracy: 0.9740\n",
      "Epoch 73/100\n",
      "28/28 [==============================] - 20s 699ms/step - loss: 0.0678 - accuracy: 0.9753 - val_loss: 0.9187 - val_accuracy: 0.7706\n",
      "Epoch 74/100\n",
      "28/28 [==============================] - 20s 717ms/step - loss: 0.0901 - accuracy: 0.9674 - val_loss: 0.1549 - val_accuracy: 0.9502\n",
      "Epoch 75/100\n",
      "28/28 [==============================] - 21s 752ms/step - loss: 0.0732 - accuracy: 0.9753 - val_loss: 0.4885 - val_accuracy: 0.8831\n",
      "Epoch 76/100\n",
      "28/28 [==============================] - 22s 769ms/step - loss: 0.0552 - accuracy: 0.9787 - val_loss: 0.0960 - val_accuracy: 0.9675\n",
      "Epoch 77/100\n",
      "28/28 [==============================] - 20s 729ms/step - loss: 0.0573 - accuracy: 0.9809 - val_loss: 0.1163 - val_accuracy: 0.9610\n",
      "Epoch 78/100\n",
      "28/28 [==============================] - 20s 720ms/step - loss: 0.0510 - accuracy: 0.9826 - val_loss: 0.0894 - val_accuracy: 0.9589\n",
      "Epoch 79/100\n",
      "28/28 [==============================] - 21s 764ms/step - loss: 0.0606 - accuracy: 0.9770 - val_loss: 0.2867 - val_accuracy: 0.9307\n",
      "Epoch 80/100\n",
      "28/28 [==============================] - 20s 699ms/step - loss: 0.0505 - accuracy: 0.9837 - val_loss: 0.0826 - val_accuracy: 0.9740\n",
      "Epoch 81/100\n",
      "28/28 [==============================] - 20s 704ms/step - loss: 0.0418 - accuracy: 0.9843 - val_loss: 0.1044 - val_accuracy: 0.9719\n",
      "Epoch 82/100\n",
      "28/28 [==============================] - 20s 723ms/step - loss: 0.0535 - accuracy: 0.9809 - val_loss: 0.0700 - val_accuracy: 0.9719\n",
      "Epoch 83/100\n",
      "28/28 [==============================] - 21s 760ms/step - loss: 0.0523 - accuracy: 0.9775 - val_loss: 0.4992 - val_accuracy: 0.8874\n",
      "Epoch 84/100\n",
      "28/28 [==============================] - 21s 742ms/step - loss: 0.0433 - accuracy: 0.9888 - val_loss: 0.1019 - val_accuracy: 0.9654\n",
      "Epoch 85/100\n",
      "28/28 [==============================] - 20s 716ms/step - loss: 0.0503 - accuracy: 0.9820 - val_loss: 0.1602 - val_accuracy: 0.9502\n",
      "Epoch 86/100\n",
      "28/28 [==============================] - 20s 701ms/step - loss: 0.0475 - accuracy: 0.9843 - val_loss: 0.1998 - val_accuracy: 0.9437\n",
      "Epoch 87/100\n",
      "28/28 [==============================] - 20s 721ms/step - loss: 0.0571 - accuracy: 0.9809 - val_loss: 0.1831 - val_accuracy: 0.9459\n",
      "Epoch 88/100\n",
      "28/28 [==============================] - 20s 732ms/step - loss: 0.0395 - accuracy: 0.9871 - val_loss: 0.0850 - val_accuracy: 0.9740\n",
      "Epoch 89/100\n",
      "28/28 [==============================] - 20s 717ms/step - loss: 0.0423 - accuracy: 0.9865 - val_loss: 0.2643 - val_accuracy: 0.9177\n",
      "Epoch 90/100\n",
      "28/28 [==============================] - 20s 707ms/step - loss: 0.0530 - accuracy: 0.9781 - val_loss: 0.3406 - val_accuracy: 0.9048\n",
      "Epoch 91/100\n",
      "28/28 [==============================] - 20s 728ms/step - loss: 0.0666 - accuracy: 0.9775 - val_loss: 0.1887 - val_accuracy: 0.9329\n",
      "Epoch 92/100\n",
      "28/28 [==============================] - 20s 720ms/step - loss: 0.0451 - accuracy: 0.9854 - val_loss: 0.1434 - val_accuracy: 0.9459\n",
      "Epoch 93/100\n",
      "28/28 [==============================] - 21s 736ms/step - loss: 0.0491 - accuracy: 0.9832 - val_loss: 0.0989 - val_accuracy: 0.9632\n",
      "Epoch 94/100\n",
      "28/28 [==============================] - 22s 765ms/step - loss: 0.0551 - accuracy: 0.9787 - val_loss: 0.1022 - val_accuracy: 0.9632\n",
      "Epoch 95/100\n",
      "28/28 [==============================] - 21s 750ms/step - loss: 0.0421 - accuracy: 0.9815 - val_loss: 0.4047 - val_accuracy: 0.8918\n",
      "Epoch 96/100\n",
      "28/28 [==============================] - 20s 712ms/step - loss: 0.0423 - accuracy: 0.9843 - val_loss: 0.0587 - val_accuracy: 0.9697\n",
      "Epoch 97/100\n",
      "28/28 [==============================] - 20s 703ms/step - loss: 0.0406 - accuracy: 0.9843 - val_loss: 0.1062 - val_accuracy: 0.9589\n",
      "Epoch 98/100\n",
      "28/28 [==============================] - 20s 698ms/step - loss: 0.0365 - accuracy: 0.9865 - val_loss: 0.1850 - val_accuracy: 0.9394\n",
      "Epoch 99/100\n",
      "28/28 [==============================] - 20s 728ms/step - loss: 0.0190 - accuracy: 0.9933 - val_loss: 0.1431 - val_accuracy: 0.9481\n",
      "Epoch 100/100\n",
      "28/28 [==============================] - 20s 704ms/step - loss: 0.0272 - accuracy: 0.9882 - val_loss: 0.0641 - val_accuracy: 0.9762\n"
     ]
    }
   ],
   "source": [
    "\n",
    "# train the model\n",
    "H = model.fit_generator(aug.flow(trainX, trainY, batch_size=batch_size),\n",
    "                        validation_data=(testX,testY),\n",
    "                        steps_per_epoch=len(trainX) // batch_size,\n",
    "                        epochs=epochs, verbose=1)"
   ]
  },
  {
   "cell_type": "code",
   "execution_count": 34,
   "metadata": {},
   "outputs": [
    {
     "name": "stdout",
     "output_type": "stream",
     "text": [
      "INFO:tensorflow:Assets written to: gender_detection_.model\\assets\n"
     ]
    }
   ],
   "source": [
    "# save the model to disk\n",
    "model.save('gender_detection_.model')"
   ]
  },
  {
   "cell_type": "code",
   "execution_count": 45,
   "metadata": {},
   "outputs": [
    {
     "data": {
      "text/plain": [
       "<matplotlib.legend.Legend at 0x22b9b11f2b0>"
      ]
     },
     "execution_count": 45,
     "metadata": {},
     "output_type": "execute_result"
    },
    {
     "data": {
      "image/png": "[encoded data removed]",
      "text/plain": [
       "<Figure size 432x288 with 1 Axes>"
      ]
     },
     "metadata": {},
     "output_type": "display_data"
    }
   ],
   "source": [
    "# plot training/validation loss/accuracy\n",
    "plt.style.use(\"ggplot\")\n",
    "plt.figure()\n",
    "N = epochs\n",
    "plt.plot(np.arange(0,N), H.history[\"loss\"], label=\"train_loss\")\n",
    "plt.plot(np.arange(0,N), H.history[\"val_loss\"], label=\"val_loss\")\n",
    "plt.plot(np.arange(0,N), H.history[\"accuracy\"], label=\"train_accc\")\n",
    "plt.plot(np.arange(0,N), H.history[\"val_accuracy\"], label=\"val_acc\")\n",
    "plt.title(\"Training Loss and Accuracy\")\n",
    "plt.xlabel(\"Epoch #\")\n",
    "plt.ylabel(\"Loss/Accuracy\")\n",
    "plt.legend(loc=\"upper right\")"
   ]
  },
  {
   "cell_type": "code",
   "execution_count": 46,
   "metadata": {},
   "outputs": [
    {
     "data": {
      "text/plain": [
       "<Figure size 432x288 with 0 Axes>"
      ]
     },
     "metadata": {},
     "output_type": "display_data"
    }
   ],
   "source": [
    "# save plot to disk\n",
    "plt.savefig('plot_.png')"
   ]
  },
  {
   "cell_type": "code",
   "execution_count": null,
   "metadata": {},
   "outputs": [],
   "source": []
  }
 ],
 "metadata": {
  "kernelspec": {
   "display_name": "Python 3",
   "language": "python",
   "name": "python3"
  },
  "language_info": {
   "codemirror_mode": {
    "name": "ipython",
    "version": 3
   },
   "file_extension": ".py",
   "mimetype": "text/x-python",
   "name": "python",
   "nbconvert_exporter": "python",
   "pygments_lexer": "ipython3",
   "version": "3.8.3"
  }
 },
 "nbformat": 4,
 "nbformat_minor": 4
}
